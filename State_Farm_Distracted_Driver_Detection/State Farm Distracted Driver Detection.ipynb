{
 "cells": [
  {
   "cell_type": "markdown",
   "id": "90b4822f",
   "metadata": {},
   "source": [
    "# State Farm Distracted Driver Detection"
   ]
  },
  {
   "cell_type": "markdown",
   "id": "f23c8205",
   "metadata": {},
   "source": []
  },
  {
   "cell_type": "code",
   "execution_count": 2,
   "id": "84310787",
   "metadata": {},
   "outputs": [],
   "source": [
    "import csv\n",
    "import os\n",
    "from glob import glob\n",
    "import tensorflow as tf\n",
    "from tensorflow.keras.preprocessing.image import ImageDataGenerator\n",
    "# from tensorflow.keras.optimizers import Adam\n",
    "from tensorflow.keras.optimizers.legacy import Adam\n",
    "from tensorflow.keras.callbacks import EarlyStopping\n",
    "from tensorflow.keras.layers import Conv2D, MaxPooling2D, Dense, Flatten"
   ]
  },
  {
   "cell_type": "markdown",
   "id": "f481f2d4",
   "metadata": {},
   "source": [
    "## Loading the data"
   ]
  },
  {
   "cell_type": "code",
   "execution_count": 21,
   "id": "c5c3952c",
   "metadata": {},
   "outputs": [],
   "source": [
    "dataset_folder = '../datasets/state-farm-distracted-driver-detection/imgs/'\n",
    "\n",
    "train_dir = os.path.join(dataset_folder, 'train/')\n",
    "test_dir = os.path.join(dataset_folder, 'test/')"
   ]
  },
  {
   "cell_type": "code",
   "execution_count": 22,
   "id": "c3d18d05",
   "metadata": {},
   "outputs": [
    {
     "name": "stdout",
     "output_type": "stream",
     "text": [
      "Number of images in the training dataset :  22424\n",
      "Number of images in the testing dataset :  79726\n"
     ]
    }
   ],
   "source": [
    "print('Number of images in the training dataset : ', str(len(glob(train_dir+'*/*'))))\n",
    "print('Number of images in the testing dataset : ', str(len(glob(test_dir+'*'))))"
   ]
  },
  {
   "cell_type": "code",
   "execution_count": 3,
   "id": "81a884b2",
   "metadata": {},
   "outputs": [],
   "source": [
    "# Need to separate the trainint set and the validation set."
   ]
  },
  {
   "cell_type": "code",
   "execution_count": null,
   "id": "edca7c3f",
   "metadata": {},
   "outputs": [],
   "source": []
  }
 ],
 "metadata": {
  "kernelspec": {
   "display_name": "Python 3 (ipykernel)",
   "language": "python",
   "name": "python3"
  },
  "language_info": {
   "codemirror_mode": {
    "name": "ipython",
    "version": 3
   },
   "file_extension": ".py",
   "mimetype": "text/x-python",
   "name": "python",
   "nbconvert_exporter": "python",
   "pygments_lexer": "ipython3",
   "version": "3.10.14"
  }
 },
 "nbformat": 4,
 "nbformat_minor": 5
}
